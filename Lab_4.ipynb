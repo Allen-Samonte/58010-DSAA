{
  "nbformat": 4,
  "nbformat_minor": 0,
  "metadata": {
    "colab": {
      "provenance": [],
      "authorship_tag": "ABX9TyNJ4AOweL7WpVsy4p2zyN52",
      "include_colab_link": true
    },
    "kernelspec": {
      "name": "python3",
      "display_name": "Python 3"
    },
    "language_info": {
      "name": "python"
    }
  },
  "cells": [
    {
      "cell_type": "markdown",
      "metadata": {
        "id": "view-in-github",
        "colab_type": "text"
      },
      "source": [
        "<a href=\"https://colab.research.google.com/github/Allen-Samonte/58010-DSAA/blob/main/Lab_4.ipynb\" target=\"_parent\"><img src=\"https://colab.research.google.com/assets/colab-badge.svg\" alt=\"Open In Colab\"/></a>"
      ]
    },
    {
      "cell_type": "code",
      "source": [
        "#A.\n",
        "import random\n",
        "\n",
        "def sample(n=2):\n",
        "   #Produces one sample for testing.\n",
        "    assert n >= 2\n",
        "    l = []\n",
        "    for i in range(1, n):\n",
        "        l.append(i)\n",
        "    l.append(random.choice(l))\n",
        "    random.shuffle(l)\n",
        "    return l\n",
        "\n",
        "def find_repeated_element(nums):\n",
        "    # Phase 1 of the cycle detection algorithm\n",
        "    slow = nums[0]\n",
        "    fast = nums[nums[0]]\n",
        "\n",
        "    while slow != fast:\n",
        "        slow = nums[slow]\n",
        "        fast = nums[nums[fast]]\n",
        "\n",
        "    # Phase 2 of the cycle detection algorithm\n",
        "    slow = 0\n",
        "    while slow != fast:\n",
        "        slow = nums[slow]\n",
        "        fast = nums[fast]\n",
        "\n",
        "    return slow\n",
        "\n",
        "# Example usage with the sample function\n",
        "A = sample(5)\n",
        "result = find_repeated_element(A)\n",
        "print(\"The repeated element is:\", result)\n"
      ],
      "metadata": {
        "colab": {
          "base_uri": "https://localhost:8080/"
        },
        "id": "seSVAAonCK9A",
        "outputId": "3141f6f0-07f5-47ff-a348-0ad9d4f33124"
      },
      "execution_count": 31,
      "outputs": [
        {
          "output_type": "stream",
          "name": "stdout",
          "text": [
            "The repeated element is: 1\n"
          ]
        }
      ]
    },
    {
      "cell_type": "code",
      "execution_count": null,
      "metadata": {
        "colab": {
          "base_uri": "https://localhost:8080/"
        },
        "id": "C3v7IyIccVG-",
        "outputId": "23185c1a-6cce-4077-9fae-840537387b0a"
      },
      "outputs": [
        {
          "output_type": "stream",
          "name": "stdout",
          "text": [
            "Encrypted Message: Zwddg, Ogjdv!\n"
          ]
        }
      ],
      "source": [
        "#B.\n",
        "def caesar_cipher(message, shift):\n",
        "    result = \"\"\n",
        "    for char in message:\n",
        "        if char.isalpha():\n",
        "\n",
        "            is_upper = char.isupper()\n",
        "            ascii_code = ord(char)\n",
        "            shifted_code = (ascii_code - ord('A' if is_upper else 'a') + shift) % 26 + ord('A' if is_upper else 'a')\n",
        "\n",
        "            result += chr(shifted_code)\n",
        "        else:\n",
        "            result += char\n",
        "\n",
        "    return result\n",
        "\n",
        "message = \"Hello, World!\"\n",
        "shift_amount = 1994\n",
        "encrypted_message = caesar_cipher(message, shift_amount)\n",
        "print(\"Encrypted Message:\", encrypted_message)"
      ]
    }
  ]
}