{
  "nbformat": 4,
  "nbformat_minor": 0,
  "metadata": {
    "colab": {
      "provenance": [],
      "authorship_tag": "ABX9TyMmkH97b3z+Z1mkEm8qIz2+",
      "include_colab_link": true
    },
    "kernelspec": {
      "name": "python3",
      "display_name": "Python 3"
    },
    "language_info": {
      "name": "python"
    }
  },
  "cells": [
    {
      "cell_type": "markdown",
      "metadata": {
        "id": "view-in-github",
        "colab_type": "text"
      },
      "source": [
        "<a href=\"https://colab.research.google.com/github/Allen-Samonte/58010-DSAA/blob/main/Lab_4.ipynb\" target=\"_parent\"><img src=\"https://colab.research.google.com/assets/colab-badge.svg\" alt=\"Open In Colab\"/></a>"
      ]
    },
    {
      "cell_type": "code",
      "execution_count": 6,
      "metadata": {
        "colab": {
          "base_uri": "https://localhost:8080/"
        },
        "id": "C3v7IyIccVG-",
        "outputId": "23185c1a-6cce-4077-9fae-840537387b0a"
      },
      "outputs": [
        {
          "output_type": "stream",
          "name": "stdout",
          "text": [
            "Encrypted Message: Zwddg, Ogjdv!\n"
          ]
        }
      ],
      "source": [
        "def caesar_cipher(message, shift):\n",
        "    result = \"\"\n",
        "    for char in message:\n",
        "        if char.isalpha():\n",
        "\n",
        "            is_upper = char.isupper()\n",
        "            ascii_code = ord(char)\n",
        "            shifted_code = (ascii_code - ord('A' if is_upper else 'a') + shift) % 26 + ord('A' if is_upper else 'a')\n",
        "\n",
        "            result += chr(shifted_code)\n",
        "        else:\n",
        "            result += char\n",
        "\n",
        "    return result\n",
        "\n",
        "message = \"Hello, World!\"\n",
        "shift_amount = 1994\n",
        "encrypted_message = caesar_cipher(message, shift_amount)\n",
        "print(\"Encrypted Message:\", encrypted_message)"
      ]
    }
  ]
}