{
  "nbformat": 4,
  "nbformat_minor": 0,
  "metadata": {
    "colab": {
      "provenance": []
    },
    "kernelspec": {
      "name": "python3",
      "display_name": "Python 3"
    },
    "language_info": {
      "name": "python"
    }
  },
  "cells": [
    {
      "cell_type": "code",
      "source": [
        "scores = [26, 49, 98, 87, 62, 75]\n",
        "\n",
        "sorted_scores = sorted(scores)\n",
        "for x in sorted_scores:\n",
        "  print(x)\n",
        "\n",
        "total_score = sum(sorted_scores)\n",
        "\n",
        "print(\"Total Score:\", total_score)\n"
      ],
      "metadata": {
        "colab": {
          "base_uri": "https://localhost:8080/"
        },
        "id": "TvJwCcPChNSo",
        "outputId": "0159e9ae-8e69-4817-b437-de3bac1dc093"
      },
      "execution_count": 77,
      "outputs": [
        {
          "output_type": "stream",
          "name": "stdout",
          "text": [
            "26\n",
            "49\n",
            "62\n",
            "75\n",
            "87\n",
            "98\n",
            "Total Score: 397\n"
          ]
        }
      ]
    }
  ]
}