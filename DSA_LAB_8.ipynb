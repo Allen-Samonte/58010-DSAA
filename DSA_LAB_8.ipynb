{
  "nbformat": 4,
  "nbformat_minor": 0,
  "metadata": {
    "colab": {
      "provenance": [],
      "authorship_tag": "ABX9TyPNmNi+y3aQ2UCH+5f5hx/v",
      "include_colab_link": true
    },
    "kernelspec": {
      "name": "python3",
      "display_name": "Python 3"
    },
    "language_info": {
      "name": "python"
    }
  },
  "cells": [
    {
      "cell_type": "markdown",
      "metadata": {
        "id": "view-in-github",
        "colab_type": "text"
      },
      "source": [
        "<a href=\"https://colab.research.google.com/github/Allen-Samonte/58010-DSAA/blob/main/DSA_LAB_8.ipynb\" target=\"_parent\"><img src=\"https://colab.research.google.com/assets/colab-badge.svg\" alt=\"Open In Colab\"/></a>"
      ]
    },
    {
      "cell_type": "code",
      "execution_count": null,
      "metadata": {
        "colab": {
          "base_uri": "https://localhost:8080/"
        },
        "id": "XlFBNbUpqY2O",
        "outputId": "e8566ebb-0d18-455a-fdf6-30a850b0f2a4"
      },
      "outputs": [
        {
          "output_type": "stream",
          "name": "stdout",
          "text": [
            "Queued Element: 1\n",
            "Queued Element: 2\n",
            "Queued Element: 3\n",
            "Queued Element: 4\n",
            "Queued Element: 5\n",
            "The elements in the queue are:['1', '2', '3', '4', '5']\n",
            "The element will DEQUEUE starting from 1 to 5.\n",
            "['1', '2', '3', '4', '5']\n",
            "The dequeue will start at 1 : ['2', '3', '4', '5']\n",
            "The dequeue will start at 2 : ['3', '4', '5']\n",
            "The dequeue will start at 3 : ['4', '5']\n",
            "The dequeue will start at 4 : ['5']\n",
            "The dequeue will start at 5 : []\n",
            "Queue is now empty because all the elements has been DEQUEUED.\n"
          ]
        }
      ],
      "source": [
        "# Stack implementation in python\n",
        "\n",
        "# Creating a stack\n",
        "def create_stack():\n",
        "    stack = []\n",
        "    return stack\n",
        "\n",
        "# Creating an empty stack\n",
        "def is_empty(stack):\n",
        "    return len(stack) == 0\n",
        "\n",
        "# Adding items into the stack\n",
        "def push(stack, item):\n",
        "    stack.append(item)\n",
        "    print(\"Queued Element: \" + item)\n",
        "\n",
        "# Removing an element from the stack\n",
        "def pop(stack):\n",
        "    if (is_empty(stack)):\n",
        "        return \"The stack is empty\"\n",
        "    return stack.pop()\n",
        "\n",
        "stack = create_stack()\n",
        "push(stack, str(1))\n",
        "push(stack, str(2))\n",
        "push(stack, str(3))\n",
        "push(stack, str(4))\n",
        "push(stack, str(5))\n",
        "\n",
        "print(\"The elements in the queue are:\"+ str(stack))\n",
        "print(\"The element will DEQUEUE starting from 1 to 5.\")\n",
        "print(str(stack))\n",
        "\n",
        "for x in range(5):\n",
        "  print(\"The dequeue will start at\", stack.pop(0), \":\", str(stack))\n",
        "\n",
        "print(\"Queue is now empty because all the elements has been DEQUEUED.\")"
      ]
    }
  ]
}