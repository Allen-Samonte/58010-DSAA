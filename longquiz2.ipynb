{
  "nbformat": 4,
  "nbformat_minor": 0,
  "metadata": {
    "colab": {
      "provenance": []
    },
    "kernelspec": {
      "name": "python3",
      "display_name": "Python 3"
    },
    "language_info": {
      "name": "python"
    }
  },
  "cells": [
    {
      "cell_type": "code",
      "execution_count": 2,
      "metadata": {
        "colab": {
          "base_uri": "https://localhost:8080/"
        },
        "id": "haB4WLe_FqNd",
        "outputId": "17206123-2ccc-4837-ee7f-abce9d7a2634"
      },
      "outputs": [
        {
          "output_type": "stream",
          "name": "stdout",
          "text": [
            "['E', 'F', 'H', 'I', 'J', 'K', 'M', 'P']\n",
            "[{'I', 'E'}, {'E', 'J'}, {'K', 'E'}, {'E', 'M'}, {'I', 'F'}, {'F', 'J'}, {'K', 'F'}, {'F', 'P'}, {'I', 'H'}, {'J', 'H'}, {'K', 'H'}]\n"
          ]
        }
      ],
      "source": [
        "#3. Implement the graph using Python dictionaries. This must display all the vertices and edges of the graph.\n",
        "\n",
        "class graph:\n",
        "  def __init__(self, gdict=None):\n",
        "    if gdict is None:\n",
        "      gdict = {}\n",
        "    self.gdict = gdict\n",
        "\n",
        "  def edges (self):\n",
        "    return self.findedges ()\n",
        "\n",
        "  def getVertices(self):\n",
        "    return list(self.gdict.keys())\n",
        "\n",
        "  def findedges (self):\n",
        "    edgename = []\n",
        "    for vrtx in self.gdict:\n",
        "      for nxtvrtx in self.gdict [vrtx]:\n",
        "        if {nxtvrtx, vrtx} not in edgename:\n",
        "          edgename.append ({vrtx, nxtvrtx})\n",
        "    return edgename\n",
        "\n",
        "graph_elements = {\n",
        "    \"E\" : [\"I\", \"J\", \"K\", \"M\"],\n",
        "    \"F\" : [\"I\", \"J\", \"K\", \"P\"],\n",
        "    \"H\" : [\"I\", \"J\", \"K\"],\n",
        "    \"I\" : [\"E\", \"F\", \"H\"],\n",
        "    \"J\" : [\"E\", \"F\", \"H\"],\n",
        "    \"K\" : [\"E\", \"F\", \"H\"],\n",
        "    \"M\" : [\"E\"],\n",
        "    \"P\" : [\"F\"],\n",
        "}\n",
        "g = graph(graph_elements)\n",
        "print(g.getVertices())\n",
        "print(g.edges())"
      ]
    }
  ]
}