{
  "nbformat": 4,
  "nbformat_minor": 0,
  "metadata": {
    "colab": {
      "provenance": []
    },
    "kernelspec": {
      "name": "python3",
      "display_name": "Python 3"
    },
    "language_info": {
      "name": "python"
    }
  },
  "cells": [
    {
      "cell_type": "code",
      "source": [
        "#1\n",
        "int_array = array.array('i', [12, 23, 34, 45, 56, 67, 78, 89, 90, 100])\n",
        "print(\"10 Integers:\", int_array)\n",
        "\n",
        "total = 0\n",
        "for i in range(len(int_array)):\n",
        "    print(f\"Integer {i + 1}: {int_array[i]}\")\n",
        "    total += int_array[i]\n",
        "\n",
        "print(\"Sum of Integers:\", total)\n"
      ],
      "metadata": {
        "colab": {
          "base_uri": "https://localhost:8080/"
        },
        "id": "zlFHLm2P6Rqy",
        "outputId": "07b914ef-de9a-4873-95c7-3b1e12185339"
      },
      "execution_count": null,
      "outputs": [
        {
          "output_type": "stream",
          "name": "stdout",
          "text": [
            "10 Integers: array('i', [12, 23, 34, 45, 56, 67, 78, 89, 90, 100])\n",
            "Integer 1: 12\n",
            "Integer 2: 23\n",
            "Integer 3: 34\n",
            "Integer 4: 45\n",
            "Integer 5: 56\n",
            "Integer 6: 67\n",
            "Integer 7: 78\n",
            "Integer 8: 89\n",
            "Integer 9: 90\n",
            "Integer 10: 100\n",
            "Sum of Integers: 594\n"
          ]
        }
      ]
    },
    {
      "cell_type": "code",
      "source": [
        "#2\n",
        "numbers = [1, 2, 3, 4, 5, 6, 7, 8, 9, 10]\n",
        "print(\"Old set of Numbers:\", numbers)\n",
        "\n",
        "numbers.append(21)\n",
        "print(\"New set of Numbers:\", numbers)"
      ],
      "metadata": {
        "colab": {
          "base_uri": "https://localhost:8080/"
        },
        "id": "CO3bk_KS-UIJ",
        "outputId": "f56c309a-a845-47a5-c576-ff135a4bca75"
      },
      "execution_count": 43,
      "outputs": [
        {
          "output_type": "stream",
          "name": "stdout",
          "text": [
            "Old set of Numbers: [1, 2, 3, 4, 5, 6, 7, 8, 9, 10]\n",
            "New set of Numbers: [1, 2, 3, 4, 5, 6, 7, 8, 9, 10, 21]\n"
          ]
        }
      ]
    },
    {
      "cell_type": "code",
      "source": [
        "#3\n",
        "numbers = [1, 2, 3, 4, 5, 6, 7, 8, 9, 10]\n",
        "print(\"Old set of Numbers:\", numbers)\n",
        "\n",
        "new_num  = 21\n",
        "numbers.insert(5, new_num)\n",
        "print(\"New set of Numbers:\", numbers)"
      ],
      "metadata": {
        "colab": {
          "base_uri": "https://localhost:8080/"
        },
        "id": "4resiGsj_95i",
        "outputId": "adda2650-3e99-434c-b6bc-7f606eb45070"
      },
      "execution_count": 42,
      "outputs": [
        {
          "output_type": "stream",
          "name": "stdout",
          "text": [
            "Old set of Numbers: [1, 2, 3, 4, 5, 6, 7, 8, 9, 10]\n",
            "New set of Numbers: [1, 2, 3, 4, 5, 21, 6, 7, 8, 9, 10]\n"
          ]
        }
      ]
    },
    {
      "cell_type": "code",
      "source": [
        "#4\n",
        "numbers = [5, 4, 3, 2, 1]\n",
        "print(\"Not yet reverse:\", numbers)\n",
        "\n",
        "numbers.reverse()\n",
        "print(\"Reversed numbers:\", numbers)"
      ],
      "metadata": {
        "colab": {
          "base_uri": "https://localhost:8080/"
        },
        "id": "LV-eCyEkBZKC",
        "outputId": "3202ecaf-75a6-4a98-a724-968056153ee5"
      },
      "execution_count": 41,
      "outputs": [
        {
          "output_type": "stream",
          "name": "stdout",
          "text": [
            "Not yet reverse: [5, 4, 3, 2, 1]\n",
            "Reversed numbers: [1, 2, 3, 4, 5]\n"
          ]
        }
      ]
    },
    {
      "cell_type": "code",
      "source": [
        "#5\n",
        "numbers = [5, 4, 3, 2, 1]\n",
        "x = len(numbers)\n",
        "print(x)"
      ],
      "metadata": {
        "colab": {
          "base_uri": "https://localhost:8080/"
        },
        "id": "_KW5v5u7CcEQ",
        "outputId": "5ce33a65-e87b-476a-c78e-e082572ca996"
      },
      "execution_count": 44,
      "outputs": [
        {
          "output_type": "stream",
          "name": "stdout",
          "text": [
            "5\n"
          ]
        }
      ]
    }
  ]
}