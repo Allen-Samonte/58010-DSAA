{
  "nbformat": 4,
  "nbformat_minor": 0,
  "metadata": {
    "colab": {
      "provenance": []
    },
    "kernelspec": {
      "name": "python3",
      "display_name": "Python 3"
    },
    "language_info": {
      "name": "python"
    }
  },
  "cells": [
    {
      "cell_type": "code",
      "execution_count": 10,
      "metadata": {
        "colab": {
          "base_uri": "https://localhost:8080/"
        },
        "id": "1cUMf6suT_ZC",
        "outputId": "eaa4e4d0-5a38-4c4e-cb34-dae2ddf672e2"
      },
      "outputs": [
        {
          "output_type": "stream",
          "name": "stdout",
          "text": [
            "i\n",
            "f\n"
          ]
        }
      ],
      "source": [
        "#Example 1\n",
        "\n",
        "import array\n",
        "\n",
        "a = array.array('i', [1,2,3,4,5,6])\n",
        "\n",
        "b = array.array('f', [1.5,2.5,3.5,4.5,5.5,6.5])\n",
        "\n",
        "print(a.typecode)\n",
        "print(b.typecode)"
      ]
    },
    {
      "cell_type": "code",
      "source": [
        "#Example 2\n",
        "\n",
        "float_array = [1.0, 2.5, 3.7, 4.2, 5.8]\n",
        "\n",
        "print(float_array)"
      ],
      "metadata": {
        "colab": {
          "base_uri": "https://localhost:8080/"
        },
        "id": "brTEJm1eVhsu",
        "outputId": "512fe33a-fbe5-4bca-db95-5f6b3e91e24b"
      },
      "execution_count": 7,
      "outputs": [
        {
          "output_type": "stream",
          "name": "stdout",
          "text": [
            "[1.0, 2.5, 3.7, 4.2, 5.8]\n"
          ]
        }
      ]
    },
    {
      "cell_type": "code",
      "source": [
        "#Example 3\n",
        "\n",
        "#Node Class\n",
        "\n",
        "class Node:\n",
        "\n",
        "  #Function to initialize the node object\n",
        "  def __init__(self, data):\n",
        "    self.data = data #Assign data\n",
        "    self.next = None #Initialize\n",
        "      #Next as Null\n",
        "\n",
        "#Linked List Class\n",
        "class LinkedList:\n",
        "\n",
        "  #Function to initialize the Linked\n",
        "  #List object\n",
        "  def __init__(self):\n",
        "    self.head = None"
      ],
      "metadata": {
        "id": "bG2ge3p9VmNn"
      },
      "execution_count": 3,
      "outputs": []
    },
    {
      "cell_type": "code",
      "source": [
        "#Example 4\n",
        "\n",
        "#Node Class\n",
        "\n",
        "class Node:\n",
        "\n",
        "  #Function to initialize the node object\n",
        "  def __init__(self, data):\n",
        "    self.data = data #Assign data\n",
        "    self.next = None #Initialize\n",
        "      #Next as Null\n",
        "\n",
        "#Linked List Class\n",
        "class LinkedList:\n",
        "  #Function to initialize the Linked\n",
        "  #List object\n",
        "  def __init__(self):\n",
        "    self.head = None\n",
        "\n",
        "#Code execution starts here\n",
        "if __name__=='__main__':\n",
        "\n",
        "  #Start with the empty list\n",
        "  llist=LinkedList()\n",
        "\n",
        "  a = 1\n",
        "  b = 2\n",
        "  c = 3\n",
        "\n",
        "  llist.head=Node(a)\n",
        "  second=Node(b)\n",
        "  third=Node(c)\n",
        "\n",
        "  llist.head.next=second; #Link first node with second\n",
        "  second.next=third; #Link second node with the third node\n",
        "\n",
        "  current = llist.head\n",
        "  while current:\n",
        "    print(current.data, end=\" -> \")\n",
        "    current = current.next\n",
        "  print(\"None\")"
      ],
      "metadata": {
        "colab": {
          "base_uri": "https://localhost:8080/"
        },
        "id": "wtPuf-BDWrDm",
        "outputId": "af1cabf0-e98b-40e2-a1c6-a7973fc5aeaf"
      },
      "execution_count": 11,
      "outputs": [
        {
          "output_type": "stream",
          "name": "stdout",
          "text": [
            "1 -> 2 -> 3 -> None\n"
          ]
        }
      ]
    }
  ]
}