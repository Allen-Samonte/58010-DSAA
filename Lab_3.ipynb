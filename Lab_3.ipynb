{
  "nbformat": 4,
  "nbformat_minor": 0,
  "metadata": {
    "colab": {
      "provenance": [],
      "authorship_tag": "ABX9TyPU1AFxwqO+P5iWI0xrw0pD",
      "include_colab_link": true
    },
    "kernelspec": {
      "name": "python3",
      "display_name": "Python 3"
    },
    "language_info": {
      "name": "python"
    }
  },
  "cells": [
    {
      "cell_type": "markdown",
      "metadata": {
        "id": "view-in-github",
        "colab_type": "text"
      },
      "source": [
        "<a href=\"https://colab.research.google.com/github/Allen-Samonte/58010-DSAA/blob/main/Lab_3.ipynb\" target=\"_parent\"><img src=\"https://colab.research.google.com/assets/colab-badge.svg\" alt=\"Open In Colab\"/></a>"
      ]
    },
    {
      "cell_type": "code",
      "execution_count": 1,
      "metadata": {
        "colab": {
          "base_uri": "https://localhost:8080/"
        },
        "id": "cBzFvPwXZ8C-",
        "outputId": "e310b6d7-71c5-4df9-a9a7-43ee3d7fdee2"
      },
      "outputs": [
        {
          "output_type": "stream",
          "name": "stdout",
          "text": [
            "Sum of Even Test Scores: 186\n"
          ]
        }
      ],
      "source": [
        "def add_even_scores(scores):\n",
        "    total = 0\n",
        "    for score in scores:\n",
        "        if score % 2 == 0:\n",
        "            total += score\n",
        "    return total\n",
        "\n",
        "test_scores = [26, 49, 98, 87, 62, 75]\n",
        "\n",
        "result = add_even_scores(test_scores)\n",
        "\n",
        "print(\"Sum of Even Test Scores:\", result)"
      ]
    }
  ]
}