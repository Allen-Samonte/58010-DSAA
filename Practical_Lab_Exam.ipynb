{
  "nbformat": 4,
  "nbformat_minor": 0,
  "metadata": {
    "colab": {
      "provenance": []
    },
    "kernelspec": {
      "name": "python3",
      "display_name": "Python 3"
    },
    "language_info": {
      "name": "python"
    }
  },
  "cells": [
    {
      "cell_type": "code",
      "execution_count": 26,
      "metadata": {
        "id": "EhcGdBS1wzs8",
        "colab": {
          "base_uri": "https://localhost:8080/"
        },
        "outputId": "fca657b3-2cbf-44fb-b66e-615c10b62d79"
      },
      "outputs": [
        {
          "output_type": "stream",
          "name": "stdout",
          "text": [
            "Number of test scores: 6\n",
            "Score 1: 26\n",
            "Score 2: 49\n",
            "Score 3: 98\n",
            "Score 4: 87\n",
            "Score 5: 62\n",
            "Score 6: 75\n",
            "Total of even test scores: 186\n"
          ]
        }
      ],
      "source": [
        "total = 0\n",
        "num_scores = int(input(\"Number of test scores: \"))\n",
        "\n",
        "for score in range(num_scores):\n",
        "    score = int(input(f\"Score {score + 1}: \"))\n",
        "    if score % 2 == 0:\n",
        "        total += score\n",
        "\n",
        "print(\"Total of even test scores:\", total)"
      ]
    }
  ]
}