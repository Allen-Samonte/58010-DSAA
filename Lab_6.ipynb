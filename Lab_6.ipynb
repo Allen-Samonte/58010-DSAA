{
  "nbformat": 4,
  "nbformat_minor": 0,
  "metadata": {
    "colab": {
      "provenance": [],
      "authorship_tag": "ABX9TyMGWNjwI8l1V4yS0KI5JTBL",
      "include_colab_link": true
    },
    "kernelspec": {
      "name": "python3",
      "display_name": "Python 3"
    },
    "language_info": {
      "name": "python"
    }
  },
  "cells": [
    {
      "cell_type": "markdown",
      "metadata": {
        "id": "view-in-github",
        "colab_type": "text"
      },
      "source": [
        "<a href=\"https://colab.research.google.com/github/Allen-Samonte/58010-DSAA/blob/main/Lab_6.ipynb\" target=\"_parent\"><img src=\"https://colab.research.google.com/assets/colab-badge.svg\" alt=\"Open In Colab\"/></a>"
      ]
    },
    {
      "cell_type": "code",
      "execution_count": 1,
      "metadata": {
        "colab": {
          "base_uri": "https://localhost:8080/"
        },
        "id": "Y4Gj1l2X16og",
        "outputId": "36b4bc72-a432-45f4-bb9f-1dbae6781f93"
      },
      "outputs": [
        {
          "output_type": "stream",
          "name": "stdout",
          "text": [
            "f e d c b a "
          ]
        }
      ],
      "source": [
        "class Node:\n",
        "    def __init__(self, value):\n",
        "        self.value = value\n",
        "        self.next = None\n",
        "        self.prev = None\n",
        "\n",
        "class DoublyLinkedList:\n",
        "    def __init__(self):\n",
        "        self.head = None\n",
        "\n",
        "    def append(self, value):\n",
        "        new_node = Node(value)\n",
        "        if not self.head:\n",
        "            self.head = new_node\n",
        "        else:\n",
        "            cur = self.head\n",
        "            while cur.next:\n",
        "                cur = cur.next\n",
        "            cur.next = new_node\n",
        "            new_node.prev = cur\n",
        "\n",
        "    def move_to_front(self, value):\n",
        "        cur = self.head\n",
        "        while cur:\n",
        "            if cur.value == value:\n",
        "                if cur == self.head:\n",
        "                    return\n",
        "                cur.prev.next = cur.next\n",
        "                if cur.next:\n",
        "                    cur.next.prev = cur.prev\n",
        "                cur.next = self.head\n",
        "                cur.prev = None\n",
        "                self.head.prev = cur\n",
        "                self.head = cur\n",
        "                return\n",
        "            cur = cur.next\n",
        "\n",
        "    def print_reverse(self):\n",
        "        cur = self.head\n",
        "        while cur:\n",
        "            print(cur.value, end=\" \")\n",
        "            cur = cur.next\n",
        "\n",
        "access_sequence = ['a', 'b', 'c', 'd', 'e', 'f']\n",
        "dll = DoublyLinkedList()\n",
        "\n",
        "for value in access_sequence:\n",
        "    dll.append(value)\n",
        "    dll.move_to_front(value)\n",
        "\n",
        "dll.print_reverse()"
      ]
    }
  ]
}