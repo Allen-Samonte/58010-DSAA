{
  "nbformat": 4,
  "nbformat_minor": 0,
  "metadata": {
    "colab": {
      "provenance": []
    },
    "kernelspec": {
      "name": "python3",
      "display_name": "Python 3"
    },
    "language_info": {
      "name": "python"
    }
  },
  "cells": [
    {
      "cell_type": "code",
      "source": [
        "#1\n",
        "full_name = [\"A\", \"l\", \"l\", \"e\", \"n\", \" \", \"F.\", \" \", \"S\", \"a\", \"m\", \"o\", \"n\", \"t\", \"e\"]\n",
        "\n",
        "for char in reversed(full_name):\n",
        "    print(char)"
      ],
      "metadata": {
        "colab": {
          "base_uri": "https://localhost:8080/"
        },
        "id": "iI-YyS6UKCf1",
        "outputId": "f262db8b-02a1-47fc-9974-24ee445db012"
      },
      "execution_count": 30,
      "outputs": [
        {
          "output_type": "stream",
          "name": "stdout",
          "text": [
            "e\n",
            "t\n",
            "n\n",
            "o\n",
            "m\n",
            "a\n",
            "S\n",
            " \n",
            "F.\n",
            " \n",
            "n\n",
            "e\n",
            "l\n",
            "l\n",
            "A\n"
          ]
        }
      ]
    },
    {
      "cell_type": "code",
      "source": [
        "#2\n",
        "def is_prime(x):\n",
        "    if x <= 1:\n",
        "        return False\n",
        "    for i in range(2, x):\n",
        "        if x % i == 0:\n",
        "            return False\n",
        "    return True\n",
        "\n",
        "for x in range (1, 11):\n",
        "  if is_prime(x):\n",
        "    print(f\"{x} <- prime\")\n",
        "  else:\n",
        "    print(f\"{x} <- composite\")"
      ],
      "metadata": {
        "colab": {
          "base_uri": "https://localhost:8080/"
        },
        "id": "9bkiXM7mKa0-",
        "outputId": "8f250ba8-f456-4223-a1a7-023cbcead29d"
      },
      "execution_count": 38,
      "outputs": [
        {
          "output_type": "stream",
          "name": "stdout",
          "text": [
            "1 <- composite\n",
            "2 <- prime\n",
            "3 <- prime\n",
            "4 <- composite\n",
            "5 <- prime\n",
            "6 <- composite\n",
            "7 <- prime\n",
            "8 <- composite\n",
            "9 <- composite\n",
            "10 <- composite\n"
          ]
        }
      ]
    }
  ]
}