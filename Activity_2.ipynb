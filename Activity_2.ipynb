{
  "nbformat": 4,
  "nbformat_minor": 0,
  "metadata": {
    "colab": {
      "provenance": []
    },
    "kernelspec": {
      "name": "python3",
      "display_name": "Python 3"
    },
    "language_info": {
      "name": "python"
    }
  },
  "cells": [
    {
      "cell_type": "code",
      "source": [
        "class Node:\n",
        "    def __init__(self, data):\n",
        "        self.data = data\n",
        "        self.next = None\n",
        "\n",
        "class LinkedList:\n",
        "    def __init__(self):\n",
        "        self.head = None\n",
        "        self.tail = None\n",
        "\n",
        "    def append(self, data):\n",
        "        new_node = Node(data)\n",
        "        if not self.head:\n",
        "            self.head = new_node\n",
        "        else:\n",
        "            self.tail.next = new_node\n",
        "        self.tail = new_node\n",
        "\n",
        "def is_prime(num):\n",
        "    if num < 2:\n",
        "        return False\n",
        "    for i in range(2, int(num**0.5) + 1):\n",
        "        if num % i == 0:\n",
        "            return False\n",
        "    return True\n",
        "\n",
        "prime_list = LinkedList()\n",
        "for num in range(2, 20):\n",
        "    if is_prime(num):\n",
        "        prime_list.append(num)\n",
        "\n",
        "current = prime_list.head\n",
        "while current:\n",
        "    print(current.data, end=\" \")\n",
        "    current = current.next\n",
        "\n",
        "print(\"\\nHead of the List:\", prime_list.head.data if prime_list.head else \"None\")\n",
        "print(\"Tail of the List:\", prime_list.tail.data if prime_list.tail else \"None\")"
      ],
      "metadata": {
        "colab": {
          "base_uri": "https://localhost:8080/"
        },
        "id": "RwQ38OvT1i3C",
        "outputId": "02043a72-e133-4dd3-d4a4-efc09493c45c"
      },
      "execution_count": 6,
      "outputs": [
        {
          "output_type": "stream",
          "name": "stdout",
          "text": [
            "2 3 5 7 11 13 17 19 \n",
            "Head of the List: 2\n",
            "Tail of the List: 19\n"
          ]
        }
      ]
    }
  ]
}