{
  "nbformat": 4,
  "nbformat_minor": 0,
  "metadata": {
    "colab": {
      "provenance": []
    },
    "kernelspec": {
      "name": "python3",
      "display_name": "Python 3"
    },
    "language_info": {
      "name": "python"
    }
  },
  "cells": [
    {
      "cell_type": "code",
      "execution_count": 4,
      "metadata": {
        "colab": {
          "base_uri": "https://localhost:8080/"
        },
        "id": "qD6GItTkh6X5",
        "outputId": "12abf256-9fcf-439a-82bb-eb69b6a285b8"
      },
      "outputs": [
        {
          "output_type": "stream",
          "name": "stdout",
          "text": [
            "['A', 'B', 'C', 'D', 'E', 'F', 'G', 'I', 'J', 'K', 'L', 'M', 'N', 'O', 'P']\n",
            "[{'B', 'A'}, {'B', 'C'}, {'B', 'E'}, {'F', 'B'}, {'M', 'C'}, {'C', 'D'}, {'F', 'C'}, {'I', 'C'}, {'C', 'E'}, {'L', 'D'}, {'K', 'D'}, {'N', 'E'}, {'I', 'F'}, {'G', 'F'}, {'G', 'I'}, {'G', 'J'}, {'I', 'J'}, {'K', 'I'}, {'K', 'J'}, {'L', 'P'}, {'L', 'M'}, {'N', 'M'}, {'O', 'M'}, {'M', 'P'}, {'O', 'N'}, {'O', 'P'}]\n"
          ]
        }
      ],
      "source": [
        "class graph:\n",
        "  def __init__(self, gdict=None):\n",
        "    if gdict is None:\n",
        "      gdict = {}\n",
        "    self.gdict = gdict\n",
        "\n",
        "  def edges (self):\n",
        "    return self.findedges ()\n",
        "\n",
        "  def getVertices(self):\n",
        "    return list(self.gdict.keys())\n",
        "\n",
        "  def findedges (self):\n",
        "    edgename = []\n",
        "    for vrtx in self.gdict:\n",
        "      for nxtvrtx in self.gdict [vrtx]:\n",
        "        if {nxtvrtx, vrtx} not in edgename:\n",
        "          edgename.append ({vrtx, nxtvrtx})\n",
        "    return edgename\n",
        "\n",
        "graph_elements = {\n",
        "    \"A\" : [\"B\"],\n",
        "    \"B\" : [\"C\", \"A\", \"E\", \"F\"],\n",
        "    \"C\" : [\"B\", \"M\", \"D\", \"F\", \"I\", \"E\"],\n",
        "    \"D\" : [\"L\", \"K\", \"C\"],\n",
        "    \"E\" : [\"N\", \"C\", \"B\"],\n",
        "    \"F\" : [\"I\", \"G\", \"C\", \"B\"],\n",
        "    \"G\" : [\"I\", \"F\", \"J\"],\n",
        "    \"I\" : [\"G\", \"F\", \"C\", \"J\", \"K\"],\n",
        "    \"J\" : [\"G\", \"I\", \"K\"],\n",
        "    \"K\" : [\"D\", \"J\", \"I\"],\n",
        "    \"L\" : [\"D\", \"P\", \"M\"],\n",
        "    \"M\" : [\"N\", \"C\", \"O\", \"P\", \"L\"],\n",
        "    \"N\" : [\"M\", \"E\", \"O\"],\n",
        "    \"O\" : [\"M\", \"N\", \"P\"],\n",
        "    \"P\" : [\"M\", \"L\", \"O\"],\n",
        "}\n",
        "g = graph(graph_elements)\n",
        "print(g.getVertices())\n",
        "print(g.edges())"
      ]
    }
  ]
}